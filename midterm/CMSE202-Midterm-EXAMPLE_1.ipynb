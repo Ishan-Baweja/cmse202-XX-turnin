{
 "cells": [
  {
   "cell_type": "markdown",
   "metadata": {},
   "source": [
    "### <p style=\"text-align: right;\"> &#9989; Ishan Baweja</p>\n",
    "### <p style=\"text-align: right;\"> &#9989; Ishanb314</p>"
   ]
  },
  {
   "cell_type": "markdown",
   "metadata": {},
   "source": [
    "# CMSE 202 Midterm\n",
    "\n",
    "The goal of this midterm is to give you the opportunity to test out some of the skills that you've developed thus far this semester. In particular, you'll practice setting up a GitHub repository, committing and pushing repository changes, downloading data with command line tools, performing some data analysis, possibly using a new Python package, and writing a python class. You should find that you have all of the skills necessary to complete this exam with even just eight weeks of CMSE 202 under your belt!\n",
    "\n",
    "You are encouraged to look through the entire exam before you get started so that you can appropriately budget your time and understand the broad goals of the exam. Once you've read through it, try doing Parts 1 and 2 first so that you have your repository set up and you download all necessary data files as they will be necessary to complete the assigned tasks. Let your instructor know right away if you have problems downloading the data!\n",
    "\n",
    "The exam is set up so that even if you get stuck on one part there are opportunities to get points on the other parts, so consider jumping ahead if you feel like you aren't making progress and then come back later if you have time.\n",
    "\n",
    "**Important note about using online resources**: This exam is \"open internet\". That means that you can look up documentation, google how to accomplish certain Python tasks, etc. Being able to effectively use the internet for computational modeling and data science is a very important skill, so we want to make sure you have the opportunity to exercise that skill. **However**: The use of any person-to-person communication software is absolutely not acceptable. If you are seen accessing your email, using a chat program (e.g. Slack), or any sort of collaborative cloud storage or document software (e.g. Google Documents), you will be at risk for receiving a zero on the exam.\n",
    "\n",
    "**Keep your eyes on your screen!** Unfortunately, there isn't enough space in the room for everyone to sit at their own table so please do your best to keep your eyes on your own screen. This exam is designed to give *you* the opportunity to show the instructor what you can do and you should hold yourself accountable for maintaining a high level of academic integrity. If any of the instructors observe suspicious behavior, you will, again, risk receiving a zero.\n",
    "\n",
    "The maximum number of points is: **XX Points**"
   ]
  },
  {
   "cell_type": "markdown",
   "metadata": {
    "pycharm": {
     "name": "#%% md\n"
    }
   },
   "source": [
    "![Moira](https://media.giphy.com/media/26gs78HRO8sOuhTkQ/giphy.gif)"
   ]
  },
  {
   "cell_type": "markdown",
   "metadata": {},
   "source": [
    "---\n",
    "# &#128721; READ EVERYTHING CAREFULLY"
   ]
  },
  {
   "cell_type": "markdown",
   "metadata": {},
   "source": [
    "---\n",
    "# Part 0: Academic integrity statement (1 point)\n",
    "\n",
    "Read the following statement and edit the markdown text to put your name in the statement. This is your commitment to doing your own authentic work on this exam."
   ]
  },
  {
   "cell_type": "markdown",
   "metadata": {},
   "source": [
    "> I, **INSERT NAME HERE**, affirm that this exam represents my own authetic work, without the use of any unpermitted aids or resources or person-to-person communication. I understand that this exam an an opportunity to showcase my own progress in developing and improving my computational skills and have done my best to demonstrate those skills."
   ]
  },
  {
   "cell_type": "markdown",
   "metadata": {},
   "source": [
    "---\n",
    "# Part 1: Git and Command Line Interface (9 points)\n",
    "\n",
    "Before you get to far along in the exam, you're going to add it to the `cmse202-XX-turnin` repository you created in class so that you can track your progress on the exam and preserve the final version that you turn in. \n"
   ]
  },
  {
   "cell_type": "markdown",
   "metadata": {},
   "source": [
    "---\n",
    "**&#9989; **Question 1.1 (1 point)**** Navigate to your `cmse202-XX-turnin` repository and create a new directory called `midterm`. \n",
    "\n",
    "```\n",
    "mkdir midterm\n",
    "```"
   ]
  },
  {
   "cell_type": "markdown",
   "metadata": {},
   "source": [
    "---\n",
    "&#9989; **Question 1.2 (3 points)** Check the status of `git` .\n",
    "\n",
    "``` \n",
    "\n",
    "```\n",
    "\n",
    "Copy and paste below the output of the command.\n",
    "\n",
    "```\n",
    "Paste it here\n",
    "```\n",
    "\n",
    "What is the name of the branch you are in ? \n",
    "\n",
    "```\n",
    "Put your answer here\n",
    "```\n",
    "\n",
    "**Important:** If you are not in the `main` branch change to your `main` branch. \n",
    "\n",
    "Once in the main branch move this notebook into that **new directory** in your repository."
   ]
  },
  {
   "cell_type": "markdown",
   "metadata": {},
   "source": [
    "---\n",
    "&#9989; **Question 1.3 (3 points):**\n",
    "Add your name and GitHub username to the top of the notebook, then add and commit **ONLY** the notebook.\n",
    "\n",
    "```\n",
    "Put the command(s) to add and commit here \n",
    "```\n",
    "\n",
    "What is the commit message you used ?\n",
    "\n",
    "```\n",
    "Answer the question here\n",
    "```"
   ]
  },
  {
   "cell_type": "markdown",
   "metadata": {},
   "source": [
    "---\n",
    "&#9989; **Question 1.4 (1 point):** Before moving on. Check that the notebook you are working on is the correct one. Run the following cell. **Are you in the new folder you just created?** If not close this notebook and open the one in the midterm folder\n"
   ]
  },
  {
   "cell_type": "code",
   "execution_count": 1,
   "metadata": {},
   "outputs": [
    {
     "name": "stdout",
     "output_type": "stream",
     "text": [
      "/home/bawejais/cmse202-XX-turnin/midterm\r\n"
     ]
    }
   ],
   "source": [
    "!pwd"
   ]
  },
  {
   "cell_type": "markdown",
   "metadata": {},
   "source": [
    "---\n",
    "&#9989; **Question 1.5 (1 point):**\n",
    "Finally push the updated repo to GitHub.\n",
    "\n",
    "```\n",
    "Put the command you used to push to GitHub here.\n",
    "```\n"
   ]
  },
  {
   "cell_type": "markdown",
   "metadata": {},
   "source": [
    "---\n",
    "# Part 2: Downloading and analyzing unfamiliar data (21 points)\n",
    "\n",
    "For this part of the exam, you're to download and analyze a dataset that you've likely not looked at before. You'll perform some simple, exploratorary analysis and create basic visualizations."
   ]
  },
  {
   "cell_type": "markdown",
   "metadata": {},
   "source": [
    "In particular, you're going to be working with a dataset that contains data on all nuclear explosions between 1945 and 1998. The data are from `N.-O. Bergkvist and R. Ferm, Nuclear Explosions 1945–1998, Swedish Defence Research Establishment/SIPRI, Stockholm, July 2000`. \n",
    "\n",
    "Download the file from \n",
    "\n",
    "`https://raw.githubusercontent.com/cmse202-S22-data/main/code_samples/nuclear-explosion-data.csv`\n"
   ]
  },
  {
   "cell_type": "markdown",
   "metadata": {},
   "source": [
    "&#9989; **Question 2.1 (1 point)**: **Do this now:** Save this files in the same directory as your notebook so you can load it directly. \n",
    "\n",
    "**Then, in the cell below, put the command or commands you used to download the files. If you did not use a command line tool to download the files, write down a command that *would* have fetched the files.**"
   ]
  },
  {
   "cell_type": "markdown",
   "metadata": {},
   "source": [
    "``` \n",
    "Put the command(s) you used for downloading the data files here!\n",
    "\n",
    "```"
   ]
  },
  {
   "cell_type": "markdown",
   "metadata": {},
   "source": [
    "&#9989; **Question 2.2 (2 points)**: To get started, **read in the `nuclear-explosion-data.csv` dataset** and then display the first 6 rows of the data using **Pandas**."
   ]
  },
  {
   "cell_type": "code",
   "execution_count": 15,
   "metadata": {},
   "outputs": [
    {
     "data": {
      "text/html": [
       "<div>\n",
       "<style scoped>\n",
       "    .dataframe tbody tr th:only-of-type {\n",
       "        vertical-align: middle;\n",
       "    }\n",
       "\n",
       "    .dataframe tbody tr th {\n",
       "        vertical-align: top;\n",
       "    }\n",
       "\n",
       "    .dataframe thead th {\n",
       "        text-align: right;\n",
       "    }\n",
       "</style>\n",
       "<table border=\"1\" class=\"dataframe\">\n",
       "  <thead>\n",
       "    <tr style=\"text-align: right;\">\n",
       "      <th></th>\n",
       "      <th>date</th>\n",
       "      <th>time</th>\n",
       "      <th>id</th>\n",
       "      <th>country</th>\n",
       "      <th>region</th>\n",
       "      <th>source</th>\n",
       "      <th>lat</th>\n",
       "      <th>long</th>\n",
       "      <th>mb</th>\n",
       "      <th>Ms</th>\n",
       "      <th>depth</th>\n",
       "      <th>yield_lower</th>\n",
       "      <th>yield_upper</th>\n",
       "      <th>purpose</th>\n",
       "      <th>name</th>\n",
       "      <th>type\\r</th>\n",
       "    </tr>\n",
       "  </thead>\n",
       "  <tbody>\n",
       "    <tr>\n",
       "      <th>0</th>\n",
       "      <td>19450716</td>\n",
       "      <td>123000.0</td>\n",
       "      <td>45001</td>\n",
       "      <td>USA</td>\n",
       "      <td>ALAMOGORDO</td>\n",
       "      <td>DOE</td>\n",
       "      <td>32.54</td>\n",
       "      <td>-105.57</td>\n",
       "      <td>0.0</td>\n",
       "      <td>0.0</td>\n",
       "      <td>-0.10</td>\n",
       "      <td>21.0</td>\n",
       "      <td>21.0</td>\n",
       "      <td>WR</td>\n",
       "      <td>TRINITY</td>\n",
       "      <td>TOWER\\r</td>\n",
       "    </tr>\n",
       "    <tr>\n",
       "      <th>1</th>\n",
       "      <td>19450805</td>\n",
       "      <td>231500.0</td>\n",
       "      <td>45002</td>\n",
       "      <td>USA</td>\n",
       "      <td>HIROSHIMA</td>\n",
       "      <td>DOE</td>\n",
       "      <td>34.23</td>\n",
       "      <td>132.27</td>\n",
       "      <td>0.0</td>\n",
       "      <td>0.0</td>\n",
       "      <td>-0.60</td>\n",
       "      <td>15.0</td>\n",
       "      <td>15.0</td>\n",
       "      <td>COMBAT</td>\n",
       "      <td>LITTLEBOY</td>\n",
       "      <td>AIRDROP\\r</td>\n",
       "    </tr>\n",
       "    <tr>\n",
       "      <th>2</th>\n",
       "      <td>19450809</td>\n",
       "      <td>15800.0</td>\n",
       "      <td>45003</td>\n",
       "      <td>USA</td>\n",
       "      <td>NAGASAKI</td>\n",
       "      <td>DOE</td>\n",
       "      <td>32.45</td>\n",
       "      <td>129.52</td>\n",
       "      <td>0.0</td>\n",
       "      <td>0.0</td>\n",
       "      <td>-0.60</td>\n",
       "      <td>21.0</td>\n",
       "      <td>21.0</td>\n",
       "      <td>COMBAT</td>\n",
       "      <td>FATMAN</td>\n",
       "      <td>AIRDROP\\r</td>\n",
       "    </tr>\n",
       "    <tr>\n",
       "      <th>3</th>\n",
       "      <td>19460630</td>\n",
       "      <td>220100.0</td>\n",
       "      <td>46001</td>\n",
       "      <td>USA</td>\n",
       "      <td>BIKINI</td>\n",
       "      <td>DOE</td>\n",
       "      <td>11.35</td>\n",
       "      <td>165.20</td>\n",
       "      <td>0.0</td>\n",
       "      <td>0.0</td>\n",
       "      <td>-0.20</td>\n",
       "      <td>21.0</td>\n",
       "      <td>21.0</td>\n",
       "      <td>WE</td>\n",
       "      <td>ABLE</td>\n",
       "      <td>AIRDROP\\r</td>\n",
       "    </tr>\n",
       "    <tr>\n",
       "      <th>4</th>\n",
       "      <td>19460724</td>\n",
       "      <td>213500.0</td>\n",
       "      <td>46002</td>\n",
       "      <td>USA</td>\n",
       "      <td>BIKINI</td>\n",
       "      <td>DOE</td>\n",
       "      <td>11.35</td>\n",
       "      <td>165.20</td>\n",
       "      <td>0.0</td>\n",
       "      <td>0.0</td>\n",
       "      <td>0.03</td>\n",
       "      <td>21.0</td>\n",
       "      <td>21.0</td>\n",
       "      <td>WE</td>\n",
       "      <td>BAKER</td>\n",
       "      <td>UW\\r</td>\n",
       "    </tr>\n",
       "    <tr>\n",
       "      <th>5</th>\n",
       "      <td>19480414</td>\n",
       "      <td>181700.0</td>\n",
       "      <td>48001</td>\n",
       "      <td>USA</td>\n",
       "      <td>ENEWETAK</td>\n",
       "      <td>DOE</td>\n",
       "      <td>11.30</td>\n",
       "      <td>162.15</td>\n",
       "      <td>0.0</td>\n",
       "      <td>0.0</td>\n",
       "      <td>-0.08</td>\n",
       "      <td>37.0</td>\n",
       "      <td>37.0</td>\n",
       "      <td>WR</td>\n",
       "      <td>X-RAY</td>\n",
       "      <td>TOWER\\r</td>\n",
       "    </tr>\n",
       "  </tbody>\n",
       "</table>\n",
       "</div>"
      ],
      "text/plain": [
       "       date      time     id country      region source    lat    long   mb  \\\n",
       "0  19450716  123000.0  45001     USA  ALAMOGORDO    DOE  32.54 -105.57  0.0   \n",
       "1  19450805  231500.0  45002     USA   HIROSHIMA    DOE  34.23  132.27  0.0   \n",
       "2  19450809   15800.0  45003     USA    NAGASAKI    DOE  32.45  129.52  0.0   \n",
       "3  19460630  220100.0  46001     USA      BIKINI    DOE  11.35  165.20  0.0   \n",
       "4  19460724  213500.0  46002     USA      BIKINI    DOE  11.35  165.20  0.0   \n",
       "5  19480414  181700.0  48001     USA    ENEWETAK    DOE  11.30  162.15  0.0   \n",
       "\n",
       "    Ms  depth  yield_lower  yield_upper purpose       name     type\\r  \n",
       "0  0.0  -0.10         21.0         21.0      WR    TRINITY    TOWER\\r  \n",
       "1  0.0  -0.60         15.0         15.0  COMBAT  LITTLEBOY  AIRDROP\\r  \n",
       "2  0.0  -0.60         21.0         21.0  COMBAT     FATMAN  AIRDROP\\r  \n",
       "3  0.0  -0.20         21.0         21.0      WE       ABLE  AIRDROP\\r  \n",
       "4  0.0   0.03         21.0         21.0      WE      BAKER       UW\\r  \n",
       "5  0.0  -0.08         37.0         37.0      WR      X-RAY    TOWER\\r  "
      ]
     },
     "execution_count": 15,
     "metadata": {},
     "output_type": "execute_result"
    }
   ],
   "source": [
    "# Put your code here\n",
    "import numpy as np\n",
    "import matplotlib.pyplot as plt\n",
    "import pandas as pd\n",
    "\n",
    "all_data_raw = pd.read_csv(\"nuclear-explosion-data.new.csv\",lineterminator='\\n')\n",
    "all_data_raw.head(6)"
   ]
  },
  {
   "cell_type": "markdown",
   "metadata": {},
   "source": [
    "This dataset contains more information that we care about at the moment. \n",
    "\n",
    "&#9989; **Question 2.2 (4 pts)**: Drop all the columns **except** `date, country, lat, long, yield_upper, purpose, type`\n"
   ]
  },
  {
   "cell_type": "code",
   "execution_count": 25,
   "metadata": {},
   "outputs": [
    {
     "data": {
      "text/html": [
       "<div>\n",
       "<style scoped>\n",
       "    .dataframe tbody tr th:only-of-type {\n",
       "        vertical-align: middle;\n",
       "    }\n",
       "\n",
       "    .dataframe tbody tr th {\n",
       "        vertical-align: top;\n",
       "    }\n",
       "\n",
       "    .dataframe thead th {\n",
       "        text-align: right;\n",
       "    }\n",
       "</style>\n",
       "<table border=\"1\" class=\"dataframe\">\n",
       "  <thead>\n",
       "    <tr style=\"text-align: right;\">\n",
       "      <th></th>\n",
       "      <th>date</th>\n",
       "      <th>country</th>\n",
       "      <th>lat</th>\n",
       "      <th>long</th>\n",
       "      <th>yield_upper</th>\n",
       "      <th>purpose</th>\n",
       "      <th>type\\r</th>\n",
       "    </tr>\n",
       "  </thead>\n",
       "  <tbody>\n",
       "    <tr>\n",
       "      <th>0</th>\n",
       "      <td>19450716</td>\n",
       "      <td>USA</td>\n",
       "      <td>32.54</td>\n",
       "      <td>-105.57</td>\n",
       "      <td>21.0</td>\n",
       "      <td>WR</td>\n",
       "      <td>TOWER\\r</td>\n",
       "    </tr>\n",
       "    <tr>\n",
       "      <th>1</th>\n",
       "      <td>19450805</td>\n",
       "      <td>USA</td>\n",
       "      <td>34.23</td>\n",
       "      <td>132.27</td>\n",
       "      <td>15.0</td>\n",
       "      <td>COMBAT</td>\n",
       "      <td>AIRDROP\\r</td>\n",
       "    </tr>\n",
       "    <tr>\n",
       "      <th>2</th>\n",
       "      <td>19450809</td>\n",
       "      <td>USA</td>\n",
       "      <td>32.45</td>\n",
       "      <td>129.52</td>\n",
       "      <td>21.0</td>\n",
       "      <td>COMBAT</td>\n",
       "      <td>AIRDROP\\r</td>\n",
       "    </tr>\n",
       "    <tr>\n",
       "      <th>3</th>\n",
       "      <td>19460630</td>\n",
       "      <td>USA</td>\n",
       "      <td>11.35</td>\n",
       "      <td>165.20</td>\n",
       "      <td>21.0</td>\n",
       "      <td>WE</td>\n",
       "      <td>AIRDROP\\r</td>\n",
       "    </tr>\n",
       "    <tr>\n",
       "      <th>4</th>\n",
       "      <td>19460724</td>\n",
       "      <td>USA</td>\n",
       "      <td>11.35</td>\n",
       "      <td>165.20</td>\n",
       "      <td>21.0</td>\n",
       "      <td>WE</td>\n",
       "      <td>UW\\r</td>\n",
       "    </tr>\n",
       "    <tr>\n",
       "      <th>5</th>\n",
       "      <td>19480414</td>\n",
       "      <td>USA</td>\n",
       "      <td>11.30</td>\n",
       "      <td>162.15</td>\n",
       "      <td>37.0</td>\n",
       "      <td>WR</td>\n",
       "      <td>TOWER\\r</td>\n",
       "    </tr>\n",
       "  </tbody>\n",
       "</table>\n",
       "</div>"
      ],
      "text/plain": [
       "       date country    lat    long  yield_upper purpose     type\\r\n",
       "0  19450716     USA  32.54 -105.57         21.0      WR    TOWER\\r\n",
       "1  19450805     USA  34.23  132.27         15.0  COMBAT  AIRDROP\\r\n",
       "2  19450809     USA  32.45  129.52         21.0  COMBAT  AIRDROP\\r\n",
       "3  19460630     USA  11.35  165.20         21.0      WE  AIRDROP\\r\n",
       "4  19460724     USA  11.35  165.20         21.0      WE       UW\\r\n",
       "5  19480414     USA  11.30  162.15         37.0      WR    TOWER\\r"
      ]
     },
     "execution_count": 25,
     "metadata": {},
     "output_type": "execute_result"
    }
   ],
   "source": [
    "# Put your code here\n",
    "df = all_data_raw.drop(['time','id','region','source','mb','Ms','depth','yield_lower','name'], axis = 1)\n",
    "df.head(6)"
   ]
  },
  {
   "cell_type": "code",
   "execution_count": 29,
   "metadata": {},
   "outputs": [
    {
     "data": {
      "text/html": [
       "<div>\n",
       "<style scoped>\n",
       "    .dataframe tbody tr th:only-of-type {\n",
       "        vertical-align: middle;\n",
       "    }\n",
       "\n",
       "    .dataframe tbody tr th {\n",
       "        vertical-align: top;\n",
       "    }\n",
       "\n",
       "    .dataframe thead th {\n",
       "        text-align: right;\n",
       "    }\n",
       "</style>\n",
       "<table border=\"1\" class=\"dataframe\">\n",
       "  <thead>\n",
       "    <tr style=\"text-align: right;\">\n",
       "      <th></th>\n",
       "      <th>date</th>\n",
       "      <th>country</th>\n",
       "      <th>lat</th>\n",
       "      <th>long</th>\n",
       "      <th>yield_upper</th>\n",
       "      <th>purpose</th>\n",
       "      <th>type\\r</th>\n",
       "    </tr>\n",
       "  </thead>\n",
       "  <tbody>\n",
       "    <tr>\n",
       "      <th>0</th>\n",
       "      <td>1945-07-16</td>\n",
       "      <td>USA</td>\n",
       "      <td>32.54</td>\n",
       "      <td>-105.57</td>\n",
       "      <td>21.0</td>\n",
       "      <td>WR</td>\n",
       "      <td>TOWER\\r</td>\n",
       "    </tr>\n",
       "    <tr>\n",
       "      <th>1</th>\n",
       "      <td>1945-08-05</td>\n",
       "      <td>USA</td>\n",
       "      <td>34.23</td>\n",
       "      <td>132.27</td>\n",
       "      <td>15.0</td>\n",
       "      <td>COMBAT</td>\n",
       "      <td>AIRDROP\\r</td>\n",
       "    </tr>\n",
       "    <tr>\n",
       "      <th>2</th>\n",
       "      <td>1945-08-09</td>\n",
       "      <td>USA</td>\n",
       "      <td>32.45</td>\n",
       "      <td>129.52</td>\n",
       "      <td>21.0</td>\n",
       "      <td>COMBAT</td>\n",
       "      <td>AIRDROP\\r</td>\n",
       "    </tr>\n",
       "    <tr>\n",
       "      <th>3</th>\n",
       "      <td>1946-06-30</td>\n",
       "      <td>USA</td>\n",
       "      <td>11.35</td>\n",
       "      <td>165.20</td>\n",
       "      <td>21.0</td>\n",
       "      <td>WE</td>\n",
       "      <td>AIRDROP\\r</td>\n",
       "    </tr>\n",
       "    <tr>\n",
       "      <th>4</th>\n",
       "      <td>1946-07-24</td>\n",
       "      <td>USA</td>\n",
       "      <td>11.35</td>\n",
       "      <td>165.20</td>\n",
       "      <td>21.0</td>\n",
       "      <td>WE</td>\n",
       "      <td>UW\\r</td>\n",
       "    </tr>\n",
       "  </tbody>\n",
       "</table>\n",
       "</div>"
      ],
      "text/plain": [
       "        date country    lat    long  yield_upper purpose     type\\r\n",
       "0 1945-07-16     USA  32.54 -105.57         21.0      WR    TOWER\\r\n",
       "1 1945-08-05     USA  34.23  132.27         15.0  COMBAT  AIRDROP\\r\n",
       "2 1945-08-09     USA  32.45  129.52         21.0  COMBAT  AIRDROP\\r\n",
       "3 1946-06-30     USA  11.35  165.20         21.0      WE  AIRDROP\\r\n",
       "4 1946-07-24     USA  11.35  165.20         21.0      WE       UW\\r"
      ]
     },
     "execution_count": 29,
     "metadata": {},
     "output_type": "execute_result"
    }
   ],
   "source": [
    "# Run this cell\n",
    "# Change the df to the name of your dataframe. \n",
    "df[\"date\"] = pd.to_datetime(df[\"date\"], format = \"%Y%m%d\", errors='coerce')\n",
    "df.head(5)"
   ]
  },
  {
   "cell_type": "markdown",
   "metadata": {},
   "source": [
    "&#9989; **Question 2.2 (2 points)**: Use built-in Pandas functions to get a quick statistical summary of your data (e.g. the mean, standard deviation, min, max, etc) **divided by country .**"
   ]
  },
  {
   "cell_type": "code",
   "execution_count": 30,
   "metadata": {},
   "outputs": [
    {
     "data": {
      "text/html": [
       "<div>\n",
       "<style scoped>\n",
       "    .dataframe tbody tr th:only-of-type {\n",
       "        vertical-align: middle;\n",
       "    }\n",
       "\n",
       "    .dataframe tbody tr th {\n",
       "        vertical-align: top;\n",
       "    }\n",
       "\n",
       "    .dataframe thead th {\n",
       "        text-align: right;\n",
       "    }\n",
       "</style>\n",
       "<table border=\"1\" class=\"dataframe\">\n",
       "  <thead>\n",
       "    <tr style=\"text-align: right;\">\n",
       "      <th></th>\n",
       "      <th>lat</th>\n",
       "      <th>long</th>\n",
       "      <th>yield_upper</th>\n",
       "    </tr>\n",
       "  </thead>\n",
       "  <tbody>\n",
       "    <tr>\n",
       "      <th>count</th>\n",
       "      <td>2051.000000</td>\n",
       "      <td>2051.000000</td>\n",
       "      <td>2046.000000</td>\n",
       "    </tr>\n",
       "    <tr>\n",
       "      <th>mean</th>\n",
       "      <td>35.397331</td>\n",
       "      <td>-36.048777</td>\n",
       "      <td>323.431021</td>\n",
       "    </tr>\n",
       "    <tr>\n",
       "      <th>std</th>\n",
       "      <td>23.403654</td>\n",
       "      <td>100.864340</td>\n",
       "      <td>2055.203066</td>\n",
       "    </tr>\n",
       "    <tr>\n",
       "      <th>min</th>\n",
       "      <td>-49.500000</td>\n",
       "      <td>-169.320000</td>\n",
       "      <td>0.000000</td>\n",
       "    </tr>\n",
       "    <tr>\n",
       "      <th>25%</th>\n",
       "      <td>37.000000</td>\n",
       "      <td>-116.054000</td>\n",
       "      <td>18.250000</td>\n",
       "    </tr>\n",
       "    <tr>\n",
       "      <th>50%</th>\n",
       "      <td>37.100000</td>\n",
       "      <td>-116.000000</td>\n",
       "      <td>20.000000</td>\n",
       "    </tr>\n",
       "    <tr>\n",
       "      <th>75%</th>\n",
       "      <td>49.870000</td>\n",
       "      <td>78.000000</td>\n",
       "      <td>150.000000</td>\n",
       "    </tr>\n",
       "    <tr>\n",
       "      <th>max</th>\n",
       "      <td>75.100000</td>\n",
       "      <td>179.220000</td>\n",
       "      <td>50000.000000</td>\n",
       "    </tr>\n",
       "  </tbody>\n",
       "</table>\n",
       "</div>"
      ],
      "text/plain": [
       "               lat         long   yield_upper\n",
       "count  2051.000000  2051.000000   2046.000000\n",
       "mean     35.397331   -36.048777    323.431021\n",
       "std      23.403654   100.864340   2055.203066\n",
       "min     -49.500000  -169.320000      0.000000\n",
       "25%      37.000000  -116.054000     18.250000\n",
       "50%      37.100000  -116.000000     20.000000\n",
       "75%      49.870000    78.000000    150.000000\n",
       "max      75.100000   179.220000  50000.000000"
      ]
     },
     "execution_count": 30,
     "metadata": {},
     "output_type": "execute_result"
    }
   ],
   "source": [
    "# Put your code here\n",
    "df.describe()"
   ]
  },
  {
   "cell_type": "markdown",
   "metadata": {},
   "source": [
    "&#9989; **Question 2.2.1 (2 points)**: Looking at the above output, answer the following questions: \n",
    "\n",
    "1. What countries have used nuclear weapons?\n",
    "2. How many weapons did the USA use?"
   ]
  },
  {
   "cell_type": "markdown",
   "metadata": {},
   "source": [
    "**<font size=+3>&#9998;</font> Do This**: *Record your answers here.*\n",
    "\n"
   ]
  },
  {
   "cell_type": "markdown",
   "metadata": {},
   "source": [
    "&#9989; **Question 2.3 (7 points)**: Using `seaborn` make an histogram ([_Hint_](https://seaborn.pydata.org/examples/index.html) ) : \n",
    "\n",
    "1. with the `date` as the `x` axis\n",
    "\n",
    "2. set the `bins` option equal to 45\n",
    "\n",
    "3. set the `hue` option equal to `country`. \n",
    "\n",
    "4. make the figure size equal to 12, 10\n",
    "\n",
    "5. set the `palette` option equal to `\"Dark2\"`. Or changing it to your preference [Link to colors](https://matplotlib.org/stable/tutorials/colors/colormaps.html)"
   ]
  },
  {
   "cell_type": "code",
   "execution_count": 48,
   "metadata": {},
   "outputs": [
    {
     "ename": "SyntaxError",
     "evalue": "invalid syntax (<ipython-input-48-74d74d6e12f0>, line 9)",
     "output_type": "error",
     "traceback": [
      "\u001b[0;36m  File \u001b[0;32m\"<ipython-input-48-74d74d6e12f0>\"\u001b[0;36m, line \u001b[0;32m9\u001b[0m\n\u001b[0;31m    sns.histplot = (df,dates,bins = 45)\u001b[0m\n\u001b[0m                                  ^\u001b[0m\n\u001b[0;31mSyntaxError\u001b[0m\u001b[0;31m:\u001b[0m invalid syntax\n"
     ]
    }
   ],
   "source": [
    "import matplotlib.pyplot as plt\n",
    "import seaborn as sns\n",
    "\n",
    "dates = df['date']\n",
    "\n",
    "sns.set_context(\"talk\")\n",
    "\n",
    "_ = plt.xticks(rotation = 40) # This line rotates the ticks of the x-axis so that they are easy to read.\n",
    "sns.histplot = (df,dates)"
   ]
  },
  {
   "cell_type": "markdown",
   "metadata": {},
   "source": [
    "&#9989; **Question 2.3.1 (2 points)**: Looking at the above output, answer the following questions: \n",
    "\n",
    "1. What country used nuclear weapons in 1960?\n",
    "2. What country was the last to use nuclear weapons? Use some code to check that you had the right answer.\n"
   ]
  },
  {
   "cell_type": "markdown",
   "metadata": {},
   "source": [
    "**<font size=+3>&#9998;</font> Do This**: *Record your answers here.*\n",
    "\n"
   ]
  },
  {
   "cell_type": "markdown",
   "metadata": {},
   "source": [
    "---\n",
    "### &#128721; STOP\n",
    "**Pause to commit your changes to your Git repository! (1 point)**\n",
    "\n",
    "Take a moment to save your notebook, commit the changes to your Git repository using the commit message \"**Committing Part 2**\", and push the changes to GitHub.\n",
    "\n",
    "---"
   ]
  },
  {
   "cell_type": "markdown",
   "metadata": {},
   "source": [
    "# Part 3: Object-Oriented Programming (38 points)\n",
    "\n",
    "\n",
    "\n",
    "<img src=https://upload.wikimedia.org/wikipedia/commons/thumb/b/b5/Starting_position_in_a_chess_game.jpg/1024px-Starting_position_in_a_chess_game.jpg width=600px align=center >\n",
    "\n",
    "\n",
    "Let's set up a fictional chess! Here is a [link](https://chess-teacher.com/wp-content/uploads/2016/01/symbols-of-chess-pieces.jpg) explaining the meaning of each piece."
   ]
  },
  {
   "cell_type": "markdown",
   "metadata": {},
   "source": [
    "&#9989; **Question 3.1 (9 points)**: The following cell contains a draft of a class called `ChessPiece` with only the `__init__` constructor. Complete the `__init__` constructor so that it:\n",
    "\n",
    "- takes in three arguments, `color`, `shape`, with no default values. These arguments correspond to three attributes with the same name.\n",
    "\n",
    "- creates another attribute called `position`. This should be a `tuple` set to `('a', 0)`. _Note:_ `'a'` is a `str` while `0` is an `int`.\n",
    "\n",
    "- check whether `shape` is contained in the `list` `[\"bishop\", \"king\", \"knight\", \"pawn\", \"queen\", \"rook\"]`. If no `raise` a `ValueError` with the message `\"Piece does not exist.\"`.  [Hint](https://stackoverflow.com/questions/2052390/manually-raising-throwing-an-exception-in-python) \n"
   ]
  },
  {
   "cell_type": "code",
   "execution_count": 56,
   "metadata": {},
   "outputs": [],
   "source": [
    "# Put your code here\n",
    "class ChessPiece:\n",
    "    \"\"\"Base class for chess pieces. \n",
    "    \n",
    "    Attributes\n",
    "    ----------\n",
    "    color : str\n",
    "        Color of the chess piece.\n",
    "    \n",
    "    shape : str\n",
    "        Shape of the chess piece. It can be only one of the following\n",
    "        [\"bishop\", \"king\", \"knight\", \"pawn\", \"queen\", \"rook\"]\n",
    "    \n",
    "    position : tuple\n",
    "        Position on the chess board.\n",
    "    \n",
    "    \"\"\"\n",
    "    def __init__(self,color,shape, position = ('a',0)): \n",
    "        \"\"\"Initialize the chess piece with its attributes color and shape \n",
    "        and set the initial position to the lower left corner of the board.\n",
    "        \n",
    "        Input Parameter\n",
    "        ---------------\n",
    "        color : str\n",
    "            Color of the chess piece.\n",
    "    \n",
    "        shape : str\n",
    "            Shape of the chess piece. It can be only one of the following\n",
    "            [\"bishop\", \"king\", \"knight\", \"pawn\", \"queen\", \"rook\"]\n",
    "        \n",
    "        Raises\n",
    "        ------\n",
    "        ValueError\n",
    "            For when the shape is not one of the possible shapes.\"\"\"\n",
    "        \n",
    "        # Put your code here\n",
    "        self.color = color\n",
    "        self.shape = shape\n",
    "        self.position = position\n",
    "        pass \n",
    "\n",
    "    def val_error(shape):\n",
    "        list = [\"bishop\", \"king\", \"knight\", \"pawn\", \"queen\", \"rook\"]\n",
    "        if shape not in list:\n",
    "            raise ValueError('Piece does not exsist'.format(shape=repr(shape)))\n",
    "        \n"
   ]
  },
  {
   "cell_type": "markdown",
   "metadata": {},
   "source": [
    "## Test your code\n",
    "\n",
    "Let's that the code works. Run the following cells."
   ]
  },
  {
   "cell_type": "code",
   "execution_count": 57,
   "metadata": {},
   "outputs": [
    {
     "data": {
      "text/plain": [
       "('a', 0)"
      ]
     },
     "execution_count": 57,
     "metadata": {},
     "output_type": "execute_result"
    }
   ],
   "source": [
    "#\n",
    "pawn = ChessPiece(color = \"white\", shape = \"pawn\")\n",
    "\n",
    "pawn.position"
   ]
  },
  {
   "cell_type": "markdown",
   "metadata": {},
   "source": [
    "&#9989; **Question 3.1.1 (1 point):** Is `pawn` starting in the correct position `('a',0)`? If Yes move to the next, otherwise fix your code."
   ]
  },
  {
   "cell_type": "code",
   "execution_count": 58,
   "metadata": {},
   "outputs": [],
   "source": [
    "# Let's try breaking the code\n",
    "\n",
    "archer = ChessPiece(color = \"black\", shape = \"archer\")"
   ]
  },
  {
   "cell_type": "markdown",
   "metadata": {},
   "source": [
    "&#9989; **Question 3.1.2 (1 point):** Did you get a `ValueError` with the correct message? If Yes move to the next, otherwise fix your code.\n",
    "\n"
   ]
  },
  {
   "cell_type": "markdown",
   "metadata": {},
   "source": [
    "---\n",
    "&#9989; **Question 3.2 (21 points)**: In the code cell below there is a draft of a class called `Queen`. Complete this class which **should inherit** the `ChessPiece` class. In addition, modify the methods such that:\n",
    "\n",
    "- the `__init__` constructor \n",
    "    * takes in one argument, `color`. \n",
    "    * set the `shape` attribute to `queen`\n",
    "    * initializes the `position` attribute to `('d',1)` if the `color` attribute is `'white'` otherwise it initializes it to `('d',8)` if the color attribute is `'black'`.\n",
    "    \n",
    "- the `move_to` method should:\n",
    "    * take in one argument `to_position`, with no default value. This will be the position in the chess board where the queen will move.\n",
    "    * check whether the `to_position` is an _instance_ of a `tuple` [Hint](<https://letmegooglethat.com/?q=How+do+I+check+if+an+object+is+an+instance+of+a+given+class+python>).:\n",
    "        * if no then it will raise a `TypeError` with the message `\"Please pass a tuple.\"` [Hint](https://stackoverflow.com/questions/2052390/manually-raising-throwing-an-exception-in-python).\n",
    "        \n",
    "        * if yes then it will check if `to_position` is an allowed value, _i.e._ check if the elements of the `tuple` exist on the chess board. If the desired position does not exist on the board then raise a `ValueError` with the message `\"Move not allowed.\"` Otherwise set the attribute `position` equal to `to_position`. _Note:_ the allowed x-coordinates are `\"a\"` through `\"h\"` and the allowed y-coordinates are `1` through `8`!.       \n",
    "        "
   ]
  },
  {
   "cell_type": "code",
   "execution_count": null,
   "metadata": {},
   "outputs": [],
   "source": [
    "# Put your code here\n",
    "class Queen:\n",
    "    \"\"\"\n",
    "    Queen chess piece. Can move in any direction. It inherits the ChessPiece class.\n",
    "    \"\"\"\n",
    "    def __init__(): \n",
    "        \"\"\"\n",
    "        Initialize the chess piece with its attributes color and shape \n",
    "        and set the initial position to the lower left corner of the board.\n",
    "        \n",
    "        Input Parameter\n",
    "        ---------------\n",
    "        color : str\n",
    "            Color of the chess piece.\n",
    "\n",
    "        \"\"\"\n",
    "        # Put your code here\n",
    "        pass\n",
    "    \n",
    "    def move_to():\n",
    "        \"\"\"\n",
    "        Move the chess piece to the given position.\n",
    "        \n",
    "        Input parameter\n",
    "        ---------------\n",
    "        to_position: tuple\n",
    "            Chess board coordinates where to move the piece.\n",
    "        \n",
    "        Raises\n",
    "        ------\n",
    "        ValueError\n",
    "            For when the elements of the tuple are not part of the chess board.\n",
    "        \n",
    "        TypeError\n",
    "            For when the input argument is not of the required type.   \n",
    "        \"\"\"\n",
    "        # Put your code here\n",
    "        pass"
   ]
  },
  {
   "cell_type": "markdown",
   "metadata": {},
   "source": [
    "## Test your code\n",
    "\n",
    "Let's check that the code works. Run the following cell."
   ]
  },
  {
   "cell_type": "code",
   "execution_count": null,
   "metadata": {},
   "outputs": [],
   "source": [
    "# Create two queens\n",
    "\n",
    "harmon = Queen(color = 'black')\n",
    "kasparov = Queen(color = \"white\")\n",
    "\n",
    "print(harmon.position)\n",
    "print(kasparov.position)\n"
   ]
  },
  {
   "cell_type": "markdown",
   "metadata": {},
   "source": [
    "&#9989; **Question 3.3.1 (2 points):** Are the queens starting in the correct positions? Look at the board above. If Yes move to the next, otherwise fix your code."
   ]
  },
  {
   "cell_type": "code",
   "execution_count": null,
   "metadata": {},
   "outputs": [],
   "source": [
    "# Let's try to move \n",
    "harmon.move_to((\"e\",2))\n",
    "\n",
    "print(harmon.position)"
   ]
  },
  {
   "cell_type": "markdown",
   "metadata": {},
   "source": [
    "&#9989; **Question 3.3.2 (1 point)** Has the queen moved to the correct position? If Yes move to the next, otherwise fix your code."
   ]
  },
  {
   "cell_type": "code",
   "execution_count": null,
   "metadata": {},
   "outputs": [],
   "source": [
    "# Let's try and break the code\n",
    "\n",
    "kasparov.move_to( \"upper left by two\")"
   ]
  },
  {
   "cell_type": "markdown",
   "metadata": {},
   "source": [
    "&#9989; **Question 3.3.3 (1 point)**. Did you get a `TypeError` with the correct message? If Yes move to the next, otherwise fix your code."
   ]
  },
  {
   "cell_type": "code",
   "execution_count": null,
   "metadata": {},
   "outputs": [],
   "source": [
    "# Let's check the ValueError\n",
    "\n",
    "harmon.move_to(to_position=(\"l\",6))"
   ]
  },
  {
   "cell_type": "markdown",
   "metadata": {},
   "source": [
    "&#9989; **Question 3.3.4 (1 point)**. Did you get a `ValueError` with the correct message? If Yes move to the next, otherwise fix your code."
   ]
  },
  {
   "cell_type": "markdown",
   "metadata": {},
   "source": [
    "---\n",
    "### &#128721; STOP\n",
    "**Pause to commit your changes to your Git repository! (1 point)**\n",
    "\n",
    "Take a moment to save your notebook, commit the changes to your Git repository using the commit message \"**Committing Part 3**\", and push the changes to GitHub.\n",
    "\n",
    "---"
   ]
  },
  {
   "cell_type": "markdown",
   "metadata": {},
   "source": [
    "---\n",
    "# Part 4. Conclusion (3 points)\n",
    "\n",
    "Make sure all of your changes to your repository are committed and pushed to GitHub. \n",
    "Before you leave\n",
    "\n",
    "1. Commit changes to your **local** `git` repository (1 point)\n",
    "\n",
    "2. Push the changes to your GitHub repository (1 point)\n",
    "\n",
    "3. Upload your notebook to D2L in case something went wrong with your repository or if you couldn't get the repository to work.  (1 point)"
   ]
  },
  {
   "cell_type": "markdown",
   "metadata": {},
   "source": [
    "# You're done! Congrats on finishing your CMSE 202 Midterm!\n",
    "\n",
    "\n",
    "![Moira2](https://media.giphy.com/media/d1E2HnwywoTkES08/giphy.gif)"
   ]
  },
  {
   "cell_type": "code",
   "execution_count": 1,
   "metadata": {},
   "outputs": [
    {
     "name": "stdout",
     "output_type": "stream",
     "text": [
      "You final grade is 72\n"
     ]
    }
   ],
   "source": [
    "\n",
    "# FINAL GRADE (Instructor's use only)\n",
    "parts = [1, 9, 21, 38, 3]\n",
    "\n",
    "total = sum(parts)\n",
    "print(f\"You final grade is {total}\")"
   ]
  },
  {
   "cell_type": "markdown",
   "metadata": {
    "pycharm": {
     "name": "#%% md\n"
    }
   },
   "source": [
    "&#169; Copyright 2022,  Department of Computational Mathematics, Science and Engineering at Michigan State University"
   ]
  }
 ],
 "metadata": {
  "kernelspec": {
   "display_name": "Python 3",
   "language": "python",
   "name": "python3"
  },
  "language_info": {
   "codemirror_mode": {
    "name": "ipython",
    "version": 3
   },
   "file_extension": ".py",
   "mimetype": "text/x-python",
   "name": "python",
   "nbconvert_exporter": "python",
   "pygments_lexer": "ipython3",
   "version": "3.8.8"
  }
 },
 "nbformat": 4,
 "nbformat_minor": 4
}
